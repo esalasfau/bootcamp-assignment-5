{
 "cells": [
  {
   "cell_type": "code",
   "execution_count": null,
   "id": "a51d1b27-73cf-4f15-b2af-944159f948dd",
   "metadata": {},
   "outputs": [],
   "source": [
    "import requests\n",
    "url = 'https://jsonplaceholder.typicode.com/posts'\n",
    "response = requests.get(url)\n",
    "data = response.json()"
   ]
  },
  {
   "cell_type": "code",
   "execution_count": null,
   "id": "c66d4798-530f-4dd2-a511-3cfcd470b3a9",
   "metadata": {},
   "outputs": [],
   "source": [
    "import pandas as pd\n",
    "df = pd.DataFrame(data)\n",
    "df.head("
   ]
  },
  {
   "cell_type": "code",
   "execution_count": null,
   "id": "f6192a58-9e1c-4d38-96e1-09e85436f6e2",
   "metadata": {},
   "outputs": [],
   "source": [
    "df.to_csv('posts.csv', index=False)"
   ]
  },
  {
   "cell_type": "code",
   "execution_count": null,
   "id": "b16f4804-ff84-4787-b99a-b58a04cfbf74",
   "metadata": {},
   "outputs": [],
   "source": [
    "import matplotlib.pyplot as plt\n",
    "# Example: Count posts per user\n",
    "user_counts = df['userId'].value_counts().sort_index()\n",
    "plt.figure(figsize=(10,6))\n",
    "user_counts.plot(kind='bar')\n",
    "plt.title('Number of Posts per User')\n",
    "plt.xlabel('User ID')\n",
    "plt.ylabel('Post Count')\n",
    "plt.grid(True)\n",
    "plt.show()"
   ]
  },
  {
   "cell_type": "code",
   "execution_count": null,
   "id": "440be84c-33e0-4289-9d17-48b660737e3c",
   "metadata": {},
   "outputs": [],
   "source": []
  }
 ],
 "metadata": {
  "kernelspec": {
   "display_name": "Python 3 (ipykernel)",
   "language": "python",
   "name": "python3"
  },
  "language_info": {
   "codemirror_mode": {
    "name": "ipython",
    "version": 3
   },
   "file_extension": ".py",
   "mimetype": "text/x-python",
   "name": "python",
   "nbconvert_exporter": "python",
   "pygments_lexer": "ipython3",
   "version": "3.12.3"
  }
 },
 "nbformat": 4,
 "nbformat_minor": 5
}
