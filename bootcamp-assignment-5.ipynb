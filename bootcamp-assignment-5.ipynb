{
 "cells": [
  {
   "cell_type": "code",
   "execution_count": null,
   "id": "a51d1b27-73cf-4f15-b2af-944159f948dd",
   "metadata": {},
   "outputs": [],
   "source": [
    "import requests\n",
    "url = 'https://jsonplaceholder.typicode.com/posts'\n",
    "response = requests.get(url)\n",
    "data = response.json()"
   ]
  },
  {
   "cell_type": "code",
   "execution_count": null,
   "id": "c66d4798-530f-4dd2-a511-3cfcd470b3a9",
   "metadata": {},
   "outputs": [],
   "source": [
    "import pandas as pd\n",
    "df = pd.DataFrame(data)\n",
    "df.head("
   ]
  },
  {
   "cell_type": "code",
   "execution_count": null,
   "id": "f6192a58-9e1c-4d38-96e1-09e85436f6e2",
   "metadata": {},
   "outputs": [],
   "source": [
    "df.to_csv('posts.csv', index=False)"
   ]
  },
  {
   "cell_type": "code",
   "execution_count": null,
   "id": "b16f4804-ff84-4787-b99a-b58a04cfbf74",
   "metadata": {},
   "outputs": [],
   "source": [
    "import matplotlib.pyplot as plt\n",
    "# Example: Count posts per user\n",
    "user_counts = df['userId'].value_counts().sort_index()\n",
    "plt.figure(figsize=(10,6))\n",
    "user_counts.plot(kind='bar')\n",
    "plt.title('Number of Posts per User')\n",
    "plt.xlabel('User ID')\n",
    "plt.ylabel('Post Count')\n",
    "plt.grid(True)\n",
    "plt.show()"
   ]
  },
  {
   "cell_type": "code",
   "execution_count": 1,
   "id": "3b19695e-b29c-4156-aae6-06fed1623d9d",
   "metadata": {},
   "outputs": [
    {
     "name": "stdout",
     "output_type": "stream",
     "text": [
      "/home/esalas\n"
     ]
    }
   ],
   "source": [
    "!pwd"
   ]
  },
  {
   "cell_type": "code",
   "execution_count": 2,
   "id": "d77455f9-f662-4d47-b062-105cc21c6887",
   "metadata": {},
   "outputs": [
    {
     "name": "stdout",
     "output_type": "stream",
     "text": [
      "fatal: not a git repository (or any parent up to mount point /)\n",
      "Stopping at filesystem boundary (GIT_DISCOVERY_ACROSS_FILESYSTEM not set).\n"
     ]
    }
   ],
   "source": [
    "!git rev-parse --is-inside-work-tree"
   ]
  },
  {
   "cell_type": "code",
   "execution_count": 3,
   "id": "1eabe7ab-e784-4104-9c25-5f6abca9778d",
   "metadata": {},
   "outputs": [
    {
     "name": "stdout",
     "output_type": "stream",
     "text": [
      "animals.csv\t\t\tMusic\n",
      "animals.txt\t\t\tnumbers.txt\n",
      "assignment2.txt\t\t\tPictures\n",
      "Assignment3.ipynb\t\tPublic\n",
      "bootcamp-assignment-5\t\tsalt_water_intrusion_dataset.csv\n",
      "bootcamp-assignment-5.ipynb\tsnap\n",
      "Desktop\t\t\t\tTemplates\n",
      "Documents\t\t\tthinclient_drives\n",
      "Downloads\t\t\tUntitled1.ipynb\n",
      "ErnestoSalas_Assignment4.ipynb\tUntitled2.ipynb\n",
      "esalas\t\t\t\tUntitled.ipynb\n",
      "gradebook.csv\t\t\tVideos\n",
      "jupyter_env\n"
     ]
    }
   ],
   "source": [
    "!ls"
   ]
  },
  {
   "cell_type": "code",
   "execution_count": 4,
   "id": "aca67078-0f9a-4787-a9e5-73608d9d09b2",
   "metadata": {},
   "outputs": [],
   "source": [
    "!cd bootcamp-assignment-5"
   ]
  },
  {
   "cell_type": "code",
   "execution_count": 5,
   "id": "a222eac8-a2d8-4f4c-8282-58ee378842a2",
   "metadata": {},
   "outputs": [
    {
     "name": "stdout",
     "output_type": "stream",
     "text": [
      "fatal: not a git repository (or any parent up to mount point /)\n",
      "Stopping at filesystem boundary (GIT_DISCOVERY_ACROSS_FILESYSTEM not set).\n"
     ]
    }
   ],
   "source": [
    "!git rev-parse --is-inside-work-tree"
   ]
  },
  {
   "cell_type": "code",
   "execution_count": 6,
   "id": "9a616cf3-083f-4aa6-816e-9feaeb4e6bef",
   "metadata": {},
   "outputs": [
    {
     "name": "stdout",
     "output_type": "stream",
     "text": [
      "animals.csv\t\t\tMusic\n",
      "animals.txt\t\t\tnumbers.txt\n",
      "assignment2.txt\t\t\tPictures\n",
      "Assignment3.ipynb\t\tPublic\n",
      "bootcamp-assignment-5\t\tsalt_water_intrusion_dataset.csv\n",
      "bootcamp-assignment-5.ipynb\tsnap\n",
      "Desktop\t\t\t\tTemplates\n",
      "Documents\t\t\tthinclient_drives\n",
      "Downloads\t\t\tUntitled1.ipynb\n",
      "ErnestoSalas_Assignment4.ipynb\tUntitled2.ipynb\n",
      "esalas\t\t\t\tUntitled.ipynb\n",
      "gradebook.csv\t\t\tVideos\n",
      "jupyter_env\n"
     ]
    }
   ],
   "source": [
    "!ls"
   ]
  },
  {
   "cell_type": "code",
   "execution_count": null,
   "id": "5ab3f9f8-45ca-48d3-8c0a-a0d3e5d65f1d",
   "metadata": {},
   "outputs": [],
   "source": []
  }
 ],
 "metadata": {
  "kernelspec": {
   "display_name": "Python 3 (ipykernel)",
   "language": "python",
   "name": "python3"
  },
  "language_info": {
   "codemirror_mode": {
    "name": "ipython",
    "version": 3
   },
   "file_extension": ".py",
   "mimetype": "text/x-python",
   "name": "python",
   "nbconvert_exporter": "python",
   "pygments_lexer": "ipython3",
   "version": "3.12.3"
  }
 },
 "nbformat": 4,
 "nbformat_minor": 5
}
